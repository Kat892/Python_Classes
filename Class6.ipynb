{
 "cells": [
  {
   "cell_type": "markdown",
   "id": "cb42ff87-d134-417b-bc83-b57ba72734a7",
   "metadata": {},
   "source": [
    "# Class_6"
   ]
  },
  {
   "cell_type": "markdown",
   "id": "ea7ad7a8-fd88-4cde-9b2d-1f49ca9806a8",
   "metadata": {},
   "source": [
    "# Exception"
   ]
  },
  {
   "cell_type": "code",
   "execution_count": 9,
   "id": "511f5394-f0a7-48dc-95a6-2c9fdbc35eac",
   "metadata": {},
   "outputs": [
    {
     "name": "stdin",
     "output_type": "stream",
     "text": [
      "Please pay 50 bucks for burger:  eighty\n"
     ]
    },
    {
     "name": "stdout",
     "output_type": "stream",
     "text": [
      "Sorry no funny business\n"
     ]
    }
   ],
   "source": [
    "try:\n",
    "    price_of_burger=50\n",
    "    payment=int(input(\"Please pay 50 bucks for burger: \"))\n",
    "    if payment==50:\n",
    "        print(\"Please collect your order and enjoy your meal\")\n",
    "    elif payment>50:\n",
    "        print(\"Please collect your change:\",payment - price_of_burger,\"& Collect your order and Enjoy your meal\")\n",
    "    else:\n",
    "        print(\"Please pay the exact amount\")\n",
    "except ValueError:\n",
    "    print(\"Sorry no funny business\")"
   ]
  },
  {
   "cell_type": "code",
   "execution_count": 18,
   "id": "44f5461a-c64e-4d70-a44a-da9ac75a849d",
   "metadata": {},
   "outputs": [
    {
     "name": "stdout",
     "output_type": "stream",
     "text": [
      "not divisible\n"
     ]
    }
   ],
   "source": [
    "try:\n",
    "    a=5\n",
    "    b=0\n",
    "    c=a/b\n",
    "except ZeroDivisionError:\n",
    "    print(\"not divisible\")\n"
   ]
  },
  {
   "cell_type": "markdown",
   "id": "d0bee11f-68f4-4f8f-8c52-597dba1f46d4",
   "metadata": {},
   "source": [
    "# Class"
   ]
  },
  {
   "cell_type": "code",
   "execution_count": 17,
   "id": "f900eeb3-9156-42a6-ac78-dba187e39950",
   "metadata": {},
   "outputs": [
    {
     "name": "stdout",
     "output_type": "stream",
     "text": [
      "Maggi\n",
      "10\n",
      "Snacks Break\n",
      "50\n"
     ]
    }
   ],
   "source": [
    "class recepie:\n",
    "    name=' '\n",
    "    time_to_cook=0\n",
    "    occasion=' '\n",
    "    number_of_plates=0\n",
    "order=recepie()\n",
    "\n",
    "order.name=\"Maggi\"\n",
    "order.time_to_cook=10\n",
    "order.occasion=\"Snacks Break\"\n",
    "order.number_of_plates=50\n",
    "print(order.name)\n",
    "print(order.time_to_cook)\n",
    "print(order.occasion)\n",
    "print(order.number_of_plates)"
   ]
  },
  {
   "cell_type": "markdown",
   "id": "ead3392a-d5b4-487d-ac56-2c2ccd96a0c9",
   "metadata": {},
   "source": [
    "# Dictionary"
   ]
  },
  {
   "cell_type": "code",
   "execution_count": 22,
   "id": "816e7071-3e86-43cc-ab76-e80fc11fa862",
   "metadata": {},
   "outputs": [
    {
     "name": "stdout",
     "output_type": "stream",
     "text": [
      "{1: 2, 2: 4, 3: 6, 4: 8, 5: 10, 6: 12, 7: 14, 8: 16, 9: 18, 10: 20, 11: 22}\n"
     ]
    }
   ],
   "source": [
    "dict={k1:k1*2 for k1 in range(1,12)}\n",
    "print(dict)"
   ]
  },
  {
   "cell_type": "code",
   "execution_count": 56,
   "id": "eea4fe61-e2af-487b-9f17-020c79f92f46",
   "metadata": {},
   "outputs": [
    {
     "name": "stdout",
     "output_type": "stream",
     "text": [
      "{1: {1: 2, 2: 2, 3: 2}, 2: {1: 4, 2: 4, 3: 4}, 3: {1: 6, 2: 6, 3: 6}, 4: {1: 8, 2: 8, 3: 8}}\n",
      "{7: {6: {1: 19, 2: 19, 3: 19, 4: 19}, 7: {1: 21, 2: 21, 3: 21, 4: 21}, 8: {1: 23, 2: 23, 3: 23, 4: 23}, 9: {1: 25, 2: 25, 3: 25, 4: 25}}, 8: {6: {1: 20, 2: 20, 3: 20, 4: 20}, 7: {1: 22, 2: 22, 3: 22, 4: 22}, 8: {1: 24, 2: 24, 3: 24, 4: 24}, 9: {1: 26, 2: 26, 3: 26, 4: 26}}, 9: {6: {1: 21, 2: 21, 3: 21, 4: 21}, 7: {1: 23, 2: 23, 3: 23, 4: 23}, 8: {1: 25, 2: 25, 3: 25, 4: 25}, 9: {1: 27, 2: 27, 3: 27, 4: 27}}, 10: {6: {1: 22, 2: 22, 3: 22, 4: 22}, 7: {1: 24, 2: 24, 3: 24, 4: 24}, 8: {1: 26, 2: 26, 3: 26, 4: 26}, 9: {1: 28, 2: 28, 3: 28, 4: 28}}}\n"
     ]
    }
   ],
   "source": [
    "#2:{1:2,2:4,3:6,4:8,5:10}\n",
    "comp1={k1:{k2:k1*2 for k2 in range(1,4)} for k1 in range(1,5)}\n",
    "comp2={k1:{k2:{k3:k1+k2*2 for k3 in range(1,5)}for k2 in range(6,10)}for k1 in range(7,11)}\n",
    "print(comp1)\n",
    "print(comp2)"
   ]
  },
  {
   "cell_type": "code",
   "execution_count": null,
   "id": "24d63951-7208-4a3b-83a3-4a148c5fb327",
   "metadata": {},
   "outputs": [],
   "source": []
  }
 ],
 "metadata": {
  "kernelspec": {
   "display_name": "Python [conda env:base] *",
   "language": "python",
   "name": "conda-base-py"
  },
  "language_info": {
   "codemirror_mode": {
    "name": "ipython",
    "version": 3
   },
   "file_extension": ".py",
   "mimetype": "text/x-python",
   "name": "python",
   "nbconvert_exporter": "python",
   "pygments_lexer": "ipython3",
   "version": "3.13.5"
  }
 },
 "nbformat": 4,
 "nbformat_minor": 5
}
