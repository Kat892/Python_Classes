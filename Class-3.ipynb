{
 "cells": [
  {
   "cell_type": "markdown",
   "id": "958457c7",
   "metadata": {},
   "source": [
    "# String Functions"
   ]
  },
  {
   "cell_type": "code",
   "execution_count": 1,
   "id": "20f87b64",
   "metadata": {},
   "outputs": [],
   "source": [
    "a=\"charan\""
   ]
  },
  {
   "cell_type": "code",
   "execution_count": 2,
   "id": "88b013f3",
   "metadata": {},
   "outputs": [
    {
     "data": {
      "text/plain": [
       "'charan'"
      ]
     },
     "execution_count": 2,
     "metadata": {},
     "output_type": "execute_result"
    }
   ],
   "source": [
    "a"
   ]
  },
  {
   "cell_type": "code",
   "execution_count": 3,
   "id": "b72fac45",
   "metadata": {},
   "outputs": [
    {
     "data": {
      "text/plain": [
       "str"
      ]
     },
     "execution_count": 3,
     "metadata": {},
     "output_type": "execute_result"
    }
   ],
   "source": [
    "type(a)"
   ]
  },
  {
   "cell_type": "code",
   "execution_count": 4,
   "id": "03c3b096",
   "metadata": {},
   "outputs": [
    {
     "data": {
      "text/plain": [
       "'c'"
      ]
     },
     "execution_count": 4,
     "metadata": {},
     "output_type": "execute_result"
    }
   ],
   "source": [
    "a[0]"
   ]
  },
  {
   "cell_type": "code",
   "execution_count": 5,
   "id": "74a1cedb",
   "metadata": {},
   "outputs": [
    {
     "data": {
      "text/plain": [
       "'h'"
      ]
     },
     "execution_count": 5,
     "metadata": {},
     "output_type": "execute_result"
    }
   ],
   "source": [
    "a[1]"
   ]
  },
  {
   "cell_type": "code",
   "execution_count": 7,
   "id": "eba13180",
   "metadata": {},
   "outputs": [
    {
     "data": {
      "text/plain": [
       "'charan'"
      ]
     },
     "execution_count": 7,
     "metadata": {},
     "output_type": "execute_result"
    }
   ],
   "source": [
    "a[0:6]\n",
    "#end index is always n-1\n"
   ]
  },
  {
   "cell_type": "code",
   "execution_count": 8,
   "id": "de002f84",
   "metadata": {},
   "outputs": [
    {
     "data": {
      "text/plain": [
       "'charan'"
      ]
     },
     "execution_count": 8,
     "metadata": {},
     "output_type": "execute_result"
    }
   ],
   "source": [
    "a[0:]"
   ]
  },
  {
   "cell_type": "code",
   "execution_count": 9,
   "id": "c19bd44c",
   "metadata": {},
   "outputs": [
    {
     "data": {
      "text/plain": [
       "'cha'"
      ]
     },
     "execution_count": 9,
     "metadata": {},
     "output_type": "execute_result"
    }
   ],
   "source": [
    "a[:3]"
   ]
  },
  {
   "cell_type": "code",
   "execution_count": 10,
   "id": "70b6cc64",
   "metadata": {},
   "outputs": [
    {
     "data": {
      "text/plain": [
       "'charan'"
      ]
     },
     "execution_count": 10,
     "metadata": {},
     "output_type": "execute_result"
    }
   ],
   "source": [
    "a[::]"
   ]
  },
  {
   "cell_type": "code",
   "execution_count": 11,
   "id": "4b2a0e49",
   "metadata": {},
   "outputs": [
    {
     "data": {
      "text/plain": [
       "'n'"
      ]
     },
     "execution_count": 11,
     "metadata": {},
     "output_type": "execute_result"
    }
   ],
   "source": [
    "a[-1]"
   ]
  },
  {
   "cell_type": "code",
   "execution_count": 12,
   "id": "6d8b8c4b",
   "metadata": {},
   "outputs": [
    {
     "data": {
      "text/plain": [
       "'c'"
      ]
     },
     "execution_count": 12,
     "metadata": {},
     "output_type": "execute_result"
    }
   ],
   "source": [
    "a[0]"
   ]
  },
  {
   "cell_type": "code",
   "execution_count": 13,
   "id": "18e60170",
   "metadata": {},
   "outputs": [],
   "source": [
    "b='sai'"
   ]
  },
  {
   "cell_type": "code",
   "execution_count": 14,
   "id": "0262f803",
   "metadata": {},
   "outputs": [
    {
     "data": {
      "text/plain": [
       "'s'"
      ]
     },
     "execution_count": 14,
     "metadata": {},
     "output_type": "execute_result"
    }
   ],
   "source": [
    "b[0]"
   ]
  },
  {
   "cell_type": "code",
   "execution_count": 15,
   "id": "65390945",
   "metadata": {},
   "outputs": [
    {
     "data": {
      "text/plain": [
       "'i'"
      ]
     },
     "execution_count": 15,
     "metadata": {},
     "output_type": "execute_result"
    }
   ],
   "source": [
    "b[-1]"
   ]
  },
  {
   "cell_type": "code",
   "execution_count": 16,
   "id": "dc703350",
   "metadata": {},
   "outputs": [
    {
     "data": {
      "text/plain": [
       "'ias'"
      ]
     },
     "execution_count": 16,
     "metadata": {},
     "output_type": "execute_result"
    }
   ],
   "source": [
    "b[::-1]"
   ]
  },
  {
   "cell_type": "code",
   "execution_count": 17,
   "id": "570b2396",
   "metadata": {},
   "outputs": [
    {
     "name": "stdout",
     "output_type": "stream",
     "text": [
      "ENTER THE NAME OF THE USERsai\n",
      "ias\n"
     ]
    }
   ],
   "source": [
    "#WAP to take the input as name of the user and print it in Reverse order\n",
    "name=input(\"ENTER THE NAME OF THE USER\")\n",
    "reversed_name=name[::-1]\n",
    "print(reversed_name)"
   ]
  },
  {
   "cell_type": "code",
   "execution_count": 18,
   "id": "d47b29f9",
   "metadata": {},
   "outputs": [
    {
     "name": "stdout",
     "output_type": "stream",
     "text": [
      "Hello worldMachine Learning\n"
     ]
    }
   ],
   "source": [
    "S=\"Hello world\"\n",
    "B=\"Machine Learning\"\n",
    "print(S+B)"
   ]
  },
  {
   "cell_type": "code",
   "execution_count": 20,
   "id": "214be563",
   "metadata": {},
   "outputs": [
    {
     "name": "stdout",
     "output_type": "stream",
     "text": [
      "Hello worldHello worldHello world\n"
     ]
    }
   ],
   "source": [
    "print(S*3)"
   ]
  },
  {
   "cell_type": "code",
   "execution_count": 25,
   "id": "af068a5a",
   "metadata": {},
   "outputs": [
    {
     "name": "stdout",
     "output_type": "stream",
     "text": [
      "C\n"
     ]
    }
   ],
   "source": [
    "S='Cat'\n",
    "print(min(S))"
   ]
  },
  {
   "cell_type": "code",
   "execution_count": 24,
   "id": "8724a471",
   "metadata": {},
   "outputs": [
    {
     "name": "stdout",
     "output_type": "stream",
     "text": [
      "t\n"
     ]
    }
   ],
   "source": [
    "print(max(S))"
   ]
  },
  {
   "cell_type": "code",
   "execution_count": 26,
   "id": "b42a2cdf",
   "metadata": {},
   "outputs": [
    {
     "data": {
      "text/plain": [
       "7"
      ]
     },
     "execution_count": 26,
     "metadata": {},
     "output_type": "execute_result"
    }
   ],
   "source": [
    "a='Karthik'\n",
    "len(a)"
   ]
  },
  {
   "cell_type": "code",
   "execution_count": 29,
   "id": "7b164b6f",
   "metadata": {},
   "outputs": [
    {
     "data": {
      "text/plain": [
       "'Darshan'"
      ]
     },
     "execution_count": 29,
     "metadata": {},
     "output_type": "execute_result"
    }
   ],
   "source": [
    "d='darshan'\n",
    "d.capitalize()"
   ]
  },
  {
   "cell_type": "code",
   "execution_count": 30,
   "id": "aac83ed5",
   "metadata": {},
   "outputs": [
    {
     "data": {
      "text/plain": [
       "'DARSHAN'"
      ]
     },
     "execution_count": 30,
     "metadata": {},
     "output_type": "execute_result"
    }
   ],
   "source": [
    "d.swapcase()"
   ]
  },
  {
   "cell_type": "code",
   "execution_count": 31,
   "id": "bfda6787",
   "metadata": {},
   "outputs": [
    {
     "data": {
      "text/plain": [
       "3"
      ]
     },
     "execution_count": 31,
     "metadata": {},
     "output_type": "execute_result"
    }
   ],
   "source": [
    "S=\"Hello world\"\n",
    "S.count('l')"
   ]
  },
  {
   "cell_type": "code",
   "execution_count": 32,
   "id": "3d861593",
   "metadata": {},
   "outputs": [
    {
     "data": {
      "text/plain": [
       "2"
      ]
     },
     "execution_count": 32,
     "metadata": {},
     "output_type": "execute_result"
    }
   ],
   "source": [
    "S.count('l',3)"
   ]
  },
  {
   "cell_type": "code",
   "execution_count": 33,
   "id": "8fa5d27f",
   "metadata": {},
   "outputs": [
    {
     "data": {
      "text/plain": [
       "1"
      ]
     },
     "execution_count": 33,
     "metadata": {},
     "output_type": "execute_result"
    }
   ],
   "source": [
    "S.count('l',3,5)"
   ]
  },
  {
   "cell_type": "code",
   "execution_count": 34,
   "id": "ffc2cd05",
   "metadata": {},
   "outputs": [],
   "source": [
    "#Strings are Immutable in nature "
   ]
  },
  {
   "cell_type": "code",
   "execution_count": 35,
   "id": "57427ed5",
   "metadata": {},
   "outputs": [
    {
     "name": "stdout",
     "output_type": "stream",
     "text": [
      "C\n"
     ]
    }
   ],
   "source": [
    "S=\"Charan\"\n",
    "print(S[0])"
   ]
  },
  {
   "cell_type": "code",
   "execution_count": 36,
   "id": "565aa2c0",
   "metadata": {},
   "outputs": [
    {
     "ename": "TypeError",
     "evalue": "'str' object does not support item assignment",
     "output_type": "error",
     "traceback": [
      "\u001b[1;31m---------------------------------------------------------------------------\u001b[0m",
      "\u001b[1;31mTypeError\u001b[0m                                 Traceback (most recent call last)",
      "Cell \u001b[1;32mIn[36], line 1\u001b[0m\n\u001b[1;32m----> 1\u001b[0m S[\u001b[38;5;241m0\u001b[39m]\u001b[38;5;241m=\u001b[39m\u001b[38;5;124m'\u001b[39m\u001b[38;5;124my\u001b[39m\u001b[38;5;124m'\u001b[39m\n",
      "\u001b[1;31mTypeError\u001b[0m: 'str' object does not support item assignment"
     ]
    }
   ],
   "source": [
    "S[0]='y'"
   ]
  },
  {
   "cell_type": "code",
   "execution_count": 39,
   "id": "bfd54bb2",
   "metadata": {},
   "outputs": [],
   "source": [
    "S=S.replace(\"C\",'y')"
   ]
  },
  {
   "cell_type": "code",
   "execution_count": 40,
   "id": "b123764d",
   "metadata": {},
   "outputs": [
    {
     "data": {
      "text/plain": [
       "'yharan'"
      ]
     },
     "execution_count": 40,
     "metadata": {},
     "output_type": "execute_result"
    }
   ],
   "source": [
    "S"
   ]
  },
  {
   "cell_type": "code",
   "execution_count": 41,
   "id": "067f5bfa",
   "metadata": {},
   "outputs": [
    {
     "name": "stdout",
     "output_type": "stream",
     "text": [
      "yharan\n"
     ]
    }
   ],
   "source": [
    "h='charan'\n",
    "h='y'+h[1:]\n",
    "print(h)"
   ]
  },
  {
   "cell_type": "code",
   "execution_count": 42,
   "id": "da5a1317",
   "metadata": {},
   "outputs": [
    {
     "data": {
      "text/plain": [
       "'yharan'"
      ]
     },
     "execution_count": 42,
     "metadata": {},
     "output_type": "execute_result"
    }
   ],
   "source": [
    "h"
   ]
  },
  {
   "cell_type": "code",
   "execution_count": 43,
   "id": "66bd1f07",
   "metadata": {},
   "outputs": [
    {
     "data": {
      "text/plain": [
       "1"
      ]
     },
     "execution_count": 43,
     "metadata": {},
     "output_type": "execute_result"
    }
   ],
   "source": [
    "'Darshan'.find('a')"
   ]
  },
  {
   "cell_type": "code",
   "execution_count": 44,
   "id": "f5c0d729",
   "metadata": {},
   "outputs": [
    {
     "data": {
      "text/plain": [
       "5"
      ]
     },
     "execution_count": 44,
     "metadata": {},
     "output_type": "execute_result"
    }
   ],
   "source": [
    "'Darshan'.find('a',2)"
   ]
  },
  {
   "cell_type": "code",
   "execution_count": 45,
   "id": "a919016f",
   "metadata": {},
   "outputs": [
    {
     "data": {
      "text/plain": [
       "5"
      ]
     },
     "execution_count": 45,
     "metadata": {},
     "output_type": "execute_result"
    }
   ],
   "source": [
    "'Darshan'.rfind('a')"
   ]
  },
  {
   "cell_type": "code",
   "execution_count": 46,
   "id": "8676fdf9",
   "metadata": {},
   "outputs": [
    {
     "data": {
      "text/plain": [
       "0"
      ]
     },
     "execution_count": 46,
     "metadata": {},
     "output_type": "execute_result"
    }
   ],
   "source": [
    "d='sai'\n",
    "d.find('s')"
   ]
  },
  {
   "cell_type": "code",
   "execution_count": 47,
   "id": "0bfabd08",
   "metadata": {},
   "outputs": [
    {
     "data": {
      "text/plain": [
       "0"
      ]
     },
     "execution_count": 47,
     "metadata": {},
     "output_type": "execute_result"
    }
   ],
   "source": [
    "d.index('s')"
   ]
  },
  {
   "cell_type": "code",
   "execution_count": 48,
   "id": "f525a4ae",
   "metadata": {},
   "outputs": [
    {
     "data": {
      "text/plain": [
       "-1"
      ]
     },
     "execution_count": 48,
     "metadata": {},
     "output_type": "execute_result"
    }
   ],
   "source": [
    "d.find('z')"
   ]
  },
  {
   "cell_type": "code",
   "execution_count": 49,
   "id": "f46ca75c",
   "metadata": {},
   "outputs": [
    {
     "ename": "ValueError",
     "evalue": "substring not found",
     "output_type": "error",
     "traceback": [
      "\u001b[1;31m---------------------------------------------------------------------------\u001b[0m",
      "\u001b[1;31mValueError\u001b[0m                                Traceback (most recent call last)",
      "Cell \u001b[1;32mIn[49], line 1\u001b[0m\n\u001b[1;32m----> 1\u001b[0m \u001b[43md\u001b[49m\u001b[38;5;241;43m.\u001b[39;49m\u001b[43mindex\u001b[49m\u001b[43m(\u001b[49m\u001b[38;5;124;43m'\u001b[39;49m\u001b[38;5;124;43mz\u001b[39;49m\u001b[38;5;124;43m'\u001b[39;49m\u001b[43m)\u001b[49m\n",
      "\u001b[1;31mValueError\u001b[0m: substring not found"
     ]
    }
   ],
   "source": [
    "d.index('z')"
   ]
  },
  {
   "cell_type": "code",
   "execution_count": 50,
   "id": "194cc2fc",
   "metadata": {},
   "outputs": [
    {
     "data": {
      "text/plain": [
       "False"
      ]
     },
     "execution_count": 50,
     "metadata": {},
     "output_type": "execute_result"
    }
   ],
   "source": [
    "S='Karthik'\n",
    "S.isnumeric()"
   ]
  },
  {
   "cell_type": "code",
   "execution_count": 51,
   "id": "0d732926",
   "metadata": {},
   "outputs": [
    {
     "data": {
      "text/plain": [
       "False"
      ]
     },
     "execution_count": 51,
     "metadata": {},
     "output_type": "execute_result"
    }
   ],
   "source": [
    "S.islower()"
   ]
  },
  {
   "cell_type": "code",
   "execution_count": 53,
   "id": "3d45c5c2",
   "metadata": {},
   "outputs": [
    {
     "data": {
      "text/plain": [
       "False"
      ]
     },
     "execution_count": 53,
     "metadata": {},
     "output_type": "execute_result"
    }
   ],
   "source": [
    "d=\"Darshan\"\n",
    "d.isupper()"
   ]
  },
  {
   "cell_type": "markdown",
   "id": "893dca7d",
   "metadata": {},
   "source": [
    "## Math Functions"
   ]
  },
  {
   "cell_type": "code",
   "execution_count": 54,
   "id": "c2e88c98",
   "metadata": {},
   "outputs": [],
   "source": [
    "# Sin cos Sinh Factorial "
   ]
  },
  {
   "cell_type": "code",
   "execution_count": 57,
   "id": "14a3365f",
   "metadata": {},
   "outputs": [
    {
     "data": {
      "text/plain": [
       "0.8939966636005579"
      ]
     },
     "execution_count": 57,
     "metadata": {},
     "output_type": "execute_result"
    }
   ],
   "source": [
    "import math as m\n",
    "m.sin(90)"
   ]
  },
  {
   "cell_type": "code",
   "execution_count": 58,
   "id": "794ea93c",
   "metadata": {},
   "outputs": [
    {
     "data": {
      "text/plain": [
       "120"
      ]
     },
     "execution_count": 58,
     "metadata": {},
     "output_type": "execute_result"
    }
   ],
   "source": [
    "m.factorial(5)"
   ]
  },
  {
   "cell_type": "code",
   "execution_count": 59,
   "id": "63ae0390",
   "metadata": {},
   "outputs": [
    {
     "data": {
      "text/plain": [
       "6"
      ]
     },
     "execution_count": 59,
     "metadata": {},
     "output_type": "execute_result"
    }
   ],
   "source": [
    "m.ceil(5.1)"
   ]
  },
  {
   "cell_type": "code",
   "execution_count": 60,
   "id": "fad32ef1",
   "metadata": {},
   "outputs": [
    {
     "data": {
      "text/plain": [
       "6"
      ]
     },
     "execution_count": 60,
     "metadata": {},
     "output_type": "execute_result"
    }
   ],
   "source": [
    "m.ceil(5.9999999)"
   ]
  },
  {
   "cell_type": "code",
   "execution_count": 61,
   "id": "96f4a1d4",
   "metadata": {},
   "outputs": [
    {
     "data": {
      "text/plain": [
       "6"
      ]
     },
     "execution_count": 61,
     "metadata": {},
     "output_type": "execute_result"
    }
   ],
   "source": [
    "m.ceil(5.00000000000001)"
   ]
  },
  {
   "cell_type": "code",
   "execution_count": 62,
   "id": "87d43d8e",
   "metadata": {},
   "outputs": [
    {
     "data": {
      "text/plain": [
       "5"
      ]
     },
     "execution_count": 62,
     "metadata": {},
     "output_type": "execute_result"
    }
   ],
   "source": [
    "m.floor(5.1)"
   ]
  },
  {
   "cell_type": "code",
   "execution_count": 63,
   "id": "2c1d3007",
   "metadata": {},
   "outputs": [
    {
     "data": {
      "text/plain": [
       "5"
      ]
     },
     "execution_count": 63,
     "metadata": {},
     "output_type": "execute_result"
    }
   ],
   "source": [
    "m.floor(5.999999999999)"
   ]
  },
  {
   "cell_type": "code",
   "execution_count": 64,
   "id": "dc5c9e39",
   "metadata": {},
   "outputs": [
    {
     "data": {
      "text/plain": [
       "8.0"
      ]
     },
     "execution_count": 64,
     "metadata": {},
     "output_type": "execute_result"
    }
   ],
   "source": [
    "m.pow(2,3)"
   ]
  },
  {
   "cell_type": "code",
   "execution_count": 65,
   "id": "5441fda6",
   "metadata": {},
   "outputs": [
    {
     "data": {
      "text/plain": [
       "6.0"
      ]
     },
     "execution_count": 65,
     "metadata": {},
     "output_type": "execute_result"
    }
   ],
   "source": [
    "m.sqrt(36)"
   ]
  },
  {
   "cell_type": "code",
   "execution_count": 66,
   "id": "175341b3",
   "metadata": {},
   "outputs": [
    {
     "data": {
      "text/plain": [
       "5.656854249492381"
      ]
     },
     "execution_count": 66,
     "metadata": {},
     "output_type": "execute_result"
    }
   ],
   "source": [
    "m.sqrt(32)"
   ]
  },
  {
   "cell_type": "markdown",
   "id": "60993b69",
   "metadata": {},
   "source": [
    "# Loops"
   ]
  },
  {
   "cell_type": "markdown",
   "id": "37378ad5",
   "metadata": {},
   "source": [
    "There are only two loops in python one is For and the other is While"
   ]
  },
  {
   "cell_type": "code",
   "execution_count": 67,
   "id": "e839fd14",
   "metadata": {},
   "outputs": [
    {
     "name": "stdout",
     "output_type": "stream",
     "text": [
      "[10, 20, 30, 40]\n"
     ]
    }
   ],
   "source": [
    "#list\n",
    "b=[10,20,30,40]\n",
    "print(b)"
   ]
  },
  {
   "cell_type": "raw",
   "id": "c526acf0",
   "metadata": {},
   "source": [
    "# Syntax of for loop:\n",
    "for variable in iterator:\n",
    "    do this \n",
    "    do this "
   ]
  },
  {
   "cell_type": "code",
   "execution_count": 68,
   "id": "63a71b4f",
   "metadata": {},
   "outputs": [
    {
     "name": "stdout",
     "output_type": "stream",
     "text": [
      "10\n",
      "20\n",
      "30\n",
      "40\n"
     ]
    }
   ],
   "source": [
    "for i in b:\n",
    "    print(i)"
   ]
  },
  {
   "cell_type": "code",
   "execution_count": 70,
   "id": "36c189e7",
   "metadata": {},
   "outputs": [
    {
     "name": "stdout",
     "output_type": "stream",
     "text": [
      "10 20 30 40 "
     ]
    }
   ],
   "source": [
    "for i in b:\n",
    "    print(i,end=' ')"
   ]
  },
  {
   "cell_type": "code",
   "execution_count": 71,
   "id": "5866c074",
   "metadata": {},
   "outputs": [
    {
     "name": "stdout",
     "output_type": "stream",
     "text": [
      "milk\n",
      "Boost\n",
      "Ghee\n",
      "Kitkat\n"
     ]
    }
   ],
   "source": [
    "a=['milk','Boost','Ghee','Kitkat']\n",
    "for h in a:\n",
    "    print(h)"
   ]
  },
  {
   "cell_type": "code",
   "execution_count": 74,
   "id": "b0f5a1c0",
   "metadata": {},
   "outputs": [
    {
     "name": "stdout",
     "output_type": "stream",
     "text": [
      "milk Boost Ghee Kitkat "
     ]
    }
   ],
   "source": [
    "a=['milk','Boost','Ghee','Kitkat']\n",
    "for h in a:\n",
    "    print(h,end=' ')"
   ]
  },
  {
   "cell_type": "code",
   "execution_count": 76,
   "id": "8961e93f",
   "metadata": {},
   "outputs": [
    {
     "name": "stdout",
     "output_type": "stream",
     "text": [
      "C h a r a n "
     ]
    }
   ],
   "source": [
    "S='Charan'\n",
    "for i in S:\n",
    "    print(i,end=\" \")"
   ]
  },
  {
   "cell_type": "code",
   "execution_count": 77,
   "id": "fba4fe7c",
   "metadata": {},
   "outputs": [
    {
     "name": "stdout",
     "output_type": "stream",
     "text": [
      "k\n",
      "a\n",
      "r\n",
      "t\n",
      "h\n",
      "i\n",
      "k\n"
     ]
    }
   ],
   "source": [
    "for i in \"karthik\":\n",
    "    print(i)"
   ]
  },
  {
   "cell_type": "markdown",
   "id": "00f6b988",
   "metadata": {},
   "source": [
    "# Range Function"
   ]
  },
  {
   "cell_type": "code",
   "execution_count": 78,
   "id": "67844ed3",
   "metadata": {},
   "outputs": [
    {
     "data": {
      "text/plain": [
       "range(0, 5)"
      ]
     },
     "execution_count": 78,
     "metadata": {},
     "output_type": "execute_result"
    }
   ],
   "source": [
    "#range(n)--- 0 to n-1\n",
    "range(5)"
   ]
  },
  {
   "cell_type": "code",
   "execution_count": 79,
   "id": "14c71648",
   "metadata": {},
   "outputs": [
    {
     "data": {
      "text/plain": [
       "range(0, 5)"
      ]
     },
     "execution_count": 79,
     "metadata": {},
     "output_type": "execute_result"
    }
   ],
   "source": [
    "range(5)"
   ]
  },
  {
   "cell_type": "code",
   "execution_count": 81,
   "id": "78269b9d",
   "metadata": {},
   "outputs": [
    {
     "name": "stdout",
     "output_type": "stream",
     "text": [
      "0\n",
      "1\n",
      "2\n",
      "3\n",
      "4\n"
     ]
    }
   ],
   "source": [
    "for i in range(5):\n",
    "    print(i)"
   ]
  },
  {
   "cell_type": "code",
   "execution_count": 82,
   "id": "e828a5cb",
   "metadata": {},
   "outputs": [
    {
     "name": "stdout",
     "output_type": "stream",
     "text": [
      "2\n",
      "3\n",
      "4\n"
     ]
    }
   ],
   "source": [
    "for i in range(2,5):\n",
    "    print(i)"
   ]
  },
  {
   "cell_type": "code",
   "execution_count": 83,
   "id": "7acb3b6a",
   "metadata": {},
   "outputs": [
    {
     "name": "stdout",
     "output_type": "stream",
     "text": [
      "5\n",
      "6\n"
     ]
    }
   ],
   "source": [
    "# i want my output as 5,6 \n",
    "for i in range(5,7):\n",
    "    print(i)"
   ]
  },
  {
   "cell_type": "code",
   "execution_count": 85,
   "id": "b3141e03",
   "metadata": {},
   "outputs": [
    {
     "name": "stdout",
     "output_type": "stream",
     "text": [
      "-3 -2 -1 0 1 2 3 4 5 6 7 8 9 "
     ]
    }
   ],
   "source": [
    "#-3 to +9\n",
    "for i in range(-3,10):\n",
    "    print(i,end=' ')"
   ]
  },
  {
   "cell_type": "code",
   "execution_count": 87,
   "id": "4d9121af",
   "metadata": {},
   "outputs": [
    {
     "name": "stdout",
     "output_type": "stream",
     "text": [
      "2 4 6 8 10 12 14 16 18 20 "
     ]
    }
   ],
   "source": [
    "# i want 2 4 6 8 10 12 14 16 18 20\n",
    "for i in range(2,21,2):\n",
    "    print(i,end=' ')"
   ]
  },
  {
   "cell_type": "markdown",
   "id": "43ee7d1f",
   "metadata": {},
   "source": [
    "## While loop"
   ]
  },
  {
   "cell_type": "raw",
   "id": "d6c7272c",
   "metadata": {},
   "source": [
    "#Syntax:\n",
    "Initalization \n",
    "while Condition:\n",
    "    do this \n",
    "    do this \n",
    "    increment /decrement"
   ]
  },
  {
   "cell_type": "code",
   "execution_count": 88,
   "id": "3887f993",
   "metadata": {},
   "outputs": [
    {
     "name": "stdout",
     "output_type": "stream",
     "text": [
      "1\n",
      "2\n",
      "3\n",
      "4\n",
      "5\n"
     ]
    }
   ],
   "source": [
    "# WAP to print numbers from 1 to 5 using while loop\n",
    "i=1\n",
    "while i<=5:\n",
    "    print(i)\n",
    "    i+=1\n",
    "    "
   ]
  },
  {
   "cell_type": "code",
   "execution_count": 89,
   "id": "ac235f40",
   "metadata": {},
   "outputs": [
    {
     "name": "stdout",
     "output_type": "stream",
     "text": [
      "c h a r a n "
     ]
    }
   ],
   "source": [
    "# WAP to print the Characters of a name of a person using While loop \n",
    "s=\"charan\"\n",
    "i=0\n",
    "while i<len(s):\n",
    "    print(s[i],end=' ')\n",
    "    i+=1"
   ]
  },
  {
   "cell_type": "code",
   "execution_count": 90,
   "id": "24a63768",
   "metadata": {},
   "outputs": [],
   "source": [
    "# Break is used to terminate the Loop "
   ]
  },
  {
   "cell_type": "code",
   "execution_count": 91,
   "id": "c5b3517b",
   "metadata": {},
   "outputs": [
    {
     "name": "stdout",
     "output_type": "stream",
     "text": [
      "2 4 6 8 "
     ]
    }
   ],
   "source": [
    "for i in range(1,10):\n",
    "    if i%2==0:\n",
    "        print(i,end=' ')"
   ]
  },
  {
   "cell_type": "code",
   "execution_count": 92,
   "id": "8dc8c7cb",
   "metadata": {},
   "outputs": [
    {
     "name": "stdout",
     "output_type": "stream",
     "text": [
      "2 4 6 "
     ]
    }
   ],
   "source": [
    "for i in range(1,11):\n",
    "    if i%2==0:\n",
    "        if i==8:\n",
    "            break\n",
    "        else:\n",
    "            print(i,end=\" \")"
   ]
  },
  {
   "cell_type": "code",
   "execution_count": 93,
   "id": "a5b1263a",
   "metadata": {},
   "outputs": [
    {
     "name": "stdout",
     "output_type": "stream",
     "text": [
      "2 4 6 10 "
     ]
    }
   ],
   "source": [
    "for i in range(1,11):\n",
    "    if i%2==0:\n",
    "        if i==8:\n",
    "            continue\n",
    "        else:\n",
    "            print(i,end=\" \")"
   ]
  },
  {
   "cell_type": "code",
   "execution_count": 94,
   "id": "829ba679",
   "metadata": {},
   "outputs": [
    {
     "name": "stdout",
     "output_type": "stream",
     "text": [
      "10\n",
      "20\n",
      "30\n",
      "40\n"
     ]
    }
   ],
   "source": [
    "numbers=[10,20,30,40,120,130]\n",
    "for i in numbers:\n",
    "    if i>100:\n",
    "        break\n",
    "    print(i)"
   ]
  },
  {
   "cell_type": "code",
   "execution_count": 95,
   "id": "20b5cf97",
   "metadata": {},
   "outputs": [
    {
     "name": "stdout",
     "output_type": "stream",
     "text": [
      "0\n",
      "1\n",
      "2\n"
     ]
    }
   ],
   "source": [
    "for i in range(5):\n",
    "    if i==3:\n",
    "        break\n",
    "    print(i)"
   ]
  },
  {
   "cell_type": "code",
   "execution_count": null,
   "id": "25227213",
   "metadata": {},
   "outputs": [],
   "source": [
    "# WAP to print odd numbers from 1 to 10 using loops and continue "
   ]
  },
  {
   "cell_type": "code",
   "execution_count": 1,
   "id": "0c4bbd9e",
   "metadata": {},
   "outputs": [
    {
     "name": "stdout",
     "output_type": "stream",
     "text": [
      "1\n",
      "3\n",
      "5\n",
      "7\n",
      "9\n"
     ]
    }
   ],
   "source": [
    "for i in range(1,11):\n",
    "    if i%2==0:\n",
    "        continue\n",
    "    print(i)"
   ]
  },
  {
   "cell_type": "code",
   "execution_count": 1,
   "id": "40e200fc",
   "metadata": {},
   "outputs": [
    {
     "name": "stdout",
     "output_type": "stream",
     "text": [
      "10\n"
     ]
    }
   ],
   "source": [
    "n=int(input())\n",
    "i=1\n",
    "while n%2==1:\n",
    "    if i==10:\n",
    "        continue\n",
    "        i+=1\n",
    "    else:\n",
    "        print(i,end=' ')"
   ]
  },
  {
   "cell_type": "code",
   "execution_count": 2,
   "id": "31d8db61",
   "metadata": {},
   "outputs": [
    {
     "name": "stdout",
     "output_type": "stream",
     "text": [
      "1\n",
      "3\n",
      "5\n",
      "7\n",
      "9\n"
     ]
    }
   ],
   "source": [
    "i=1\n",
    "while i<=10:\n",
    "    if i%2==0:\n",
    "        i+=1\n",
    "        continue\n",
    "    print(i)\n",
    "    i+=1"
   ]
  },
  {
   "cell_type": "code",
   "execution_count": 3,
   "id": "7362f1e1",
   "metadata": {},
   "outputs": [],
   "source": [
    "# pass"
   ]
  },
  {
   "cell_type": "code",
   "execution_count": 5,
   "id": "4620b3a9",
   "metadata": {},
   "outputs": [],
   "source": [
    "n=10\n",
    "if n>10:\n",
    "    pass"
   ]
  },
  {
   "cell_type": "code",
   "execution_count": 6,
   "id": "16c79a8f",
   "metadata": {},
   "outputs": [],
   "source": [
    "for i in range(5):\n",
    "    pass"
   ]
  },
  {
   "cell_type": "code",
   "execution_count": 7,
   "id": "63bf2ca6",
   "metadata": {},
   "outputs": [
    {
     "ename": "SyntaxError",
     "evalue": "incomplete input (1925085379.py, line 1)",
     "output_type": "error",
     "traceback": [
      "\u001b[1;36m  Cell \u001b[1;32mIn[7], line 1\u001b[1;36m\u001b[0m\n\u001b[1;33m    for i in range(5):\u001b[0m\n\u001b[1;37m                      ^\u001b[0m\n\u001b[1;31mSyntaxError\u001b[0m\u001b[1;31m:\u001b[0m incomplete input\n"
     ]
    }
   ],
   "source": [
    "for i in range(5):"
   ]
  },
  {
   "cell_type": "code",
   "execution_count": null,
   "id": "13fec71e",
   "metadata": {},
   "outputs": [],
   "source": []
  }
 ],
 "metadata": {
  "kernelspec": {
   "display_name": "Python (myenv)",
   "language": "python",
   "name": "saich"
  },
  "language_info": {
   "codemirror_mode": {
    "name": "ipython",
    "version": 3
   },
   "file_extension": ".py",
   "mimetype": "text/x-python",
   "name": "python",
   "nbconvert_exporter": "python",
   "pygments_lexer": "ipython3",
   "version": "3.10.9"
  }
 },
 "nbformat": 4,
 "nbformat_minor": 5
}
