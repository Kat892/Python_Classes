{
 "cells": [
  {
   "cell_type": "code",
   "execution_count": 1,
   "id": "24fad70d",
   "metadata": {},
   "outputs": [
    {
     "data": {
      "text/plain": [
       "0"
      ]
     },
     "execution_count": 1,
     "metadata": {},
     "output_type": "execute_result"
    }
   ],
   "source": [
    "# simple class demonstration\n",
    "class abc:\n",
    "    x=0\n",
    "    def show(self):\n",
    "        print(\"Hello all\")\n",
    "s=abc()\n",
    "s.x"
   ]
  },
  {
   "cell_type": "code",
   "execution_count": 2,
   "id": "57f3f6a3",
   "metadata": {},
   "outputs": [
    {
     "name": "stdout",
     "output_type": "stream",
     "text": [
      "Hello all\n"
     ]
    }
   ],
   "source": [
    "s.show()"
   ]
  },
  {
   "cell_type": "code",
   "execution_count": 3,
   "id": "20c5ad41",
   "metadata": {},
   "outputs": [
    {
     "name": "stdout",
     "output_type": "stream",
     "text": [
      "Name:charan,age:24\n"
     ]
    }
   ],
   "source": [
    "class student:\n",
    "    def __init__(self,name,age):\n",
    "        self.name=name\n",
    "        self.age=age\n",
    "    def display(self):\n",
    "        print(f\"Name:{self.name},age:{self.age}\")\n",
    "s1=student(\"charan\",24)\n",
    "s1.display()"
   ]
  },
  {
   "cell_type": "code",
   "execution_count": 4,
   "id": "3cf5f8f9",
   "metadata": {},
   "outputs": [],
   "source": [
    "class car:\n",
    "    def __init__(self,brand,model,year,color):\n",
    "        self.brand=brand\n",
    "        self.model=model\n",
    "        self.year=year\n",
    "        self.color=color\n",
    "    def display_info(self):\n",
    "        print(f\"{self.year}{self.color}{self.brand}{self.model}\")"
   ]
  },
  {
   "cell_type": "code",
   "execution_count": 5,
   "id": "b83f4d44",
   "metadata": {},
   "outputs": [
    {
     "name": "stdout",
     "output_type": "stream",
     "text": [
      "2023RedTeslaModel S\n"
     ]
    }
   ],
   "source": [
    "car1=car(\"Tesla\",'Model S',2023,\"Red\")\n",
    "car2=car(\"BYD\",'Model EV',2020,'White')\n",
    "car1.display_info()"
   ]
  },
  {
   "cell_type": "code",
   "execution_count": 6,
   "id": "049e7637",
   "metadata": {},
   "outputs": [
    {
     "name": "stdout",
     "output_type": "stream",
     "text": [
      "2020WhiteBYDModel EV\n"
     ]
    }
   ],
   "source": [
    "car2.display_info()"
   ]
  },
  {
   "cell_type": "code",
   "execution_count": 7,
   "id": "66097e49",
   "metadata": {},
   "outputs": [
    {
     "name": "stdout",
     "output_type": "stream",
     "text": [
      "2023redTeslaModel S\n"
     ]
    }
   ],
   "source": [
    "# with out init\n",
    "class car:\n",
    "    def display_info(self):\n",
    "        print(f\"{self.year}{self.color}{self.brand}{self.model}\")\n",
    "car1=car()\n",
    "car1.brand=\"Tesla\"\n",
    "car1.model=\"Model S\"\n",
    "car1.year=2023\n",
    "car1.color=\"red\"\n",
    "car1.display_info()"
   ]
  },
  {
   "cell_type": "code",
   "execution_count": 8,
   "id": "a13a7bab",
   "metadata": {},
   "outputs": [],
   "source": [
    "#with __init__ you can intialise all values while creating object\n",
    "#with out init you have to enter manually each variable afer creating object\n",
    "#init -- Automatic initalization\n",
    "#without manual initalization"
   ]
  },
  {
   "cell_type": "code",
   "execution_count": 9,
   "id": "418cd5ab",
   "metadata": {},
   "outputs": [
    {
     "name": "stdout",
     "output_type": "stream",
     "text": [
      "TeslaModel S\n"
     ]
    }
   ],
   "source": [
    "class car:\n",
    "    def __init__(self,brand,model):\n",
    "        self.brand=brand\n",
    "        self.model=model\n",
    "    def display_info(self):\n",
    "        print(f\"{self.brand}{self.model}\")\n",
    "car1=car(\"Tesla\",\"Model S\")\n",
    "car1.display_info()"
   ]
  },
  {
   "cell_type": "code",
   "execution_count": 11,
   "id": "51afce07",
   "metadata": {},
   "outputs": [
    {
     "ename": "TypeError",
     "evalue": "car.__init__() takes 2 positional arguments but 3 were given",
     "output_type": "error",
     "traceback": [
      "\u001b[1;31m---------------------------------------------------------------------------\u001b[0m",
      "\u001b[1;31mTypeError\u001b[0m                                 Traceback (most recent call last)",
      "Cell \u001b[1;32mIn[11], line 8\u001b[0m\n\u001b[0;32m      6\u001b[0m     \u001b[38;5;28;01mdef\u001b[39;00m\u001b[38;5;250m \u001b[39m\u001b[38;5;21mdisplay_info\u001b[39m():\n\u001b[0;32m      7\u001b[0m         \u001b[38;5;28mprint\u001b[39m(\u001b[38;5;124mf\u001b[39m\u001b[38;5;124m\"\u001b[39m\u001b[38;5;132;01m{\u001b[39;00mbrand\u001b[38;5;132;01m}\u001b[39;00m\u001b[38;5;132;01m{\u001b[39;00mmodel\u001b[38;5;132;01m}\u001b[39;00m\u001b[38;5;124m\"\u001b[39m)\n\u001b[1;32m----> 8\u001b[0m car1\u001b[38;5;241m=\u001b[39m\u001b[43mcar\u001b[49m\u001b[43m(\u001b[49m\u001b[38;5;124;43m\"\u001b[39;49m\u001b[38;5;124;43mTesla\u001b[39;49m\u001b[38;5;124;43m\"\u001b[39;49m\u001b[43m,\u001b[49m\u001b[38;5;124;43m\"\u001b[39;49m\u001b[38;5;124;43mModel S\u001b[39;49m\u001b[38;5;124;43m\"\u001b[39;49m\u001b[43m)\u001b[49m\n\u001b[0;32m      9\u001b[0m car1\u001b[38;5;241m.\u001b[39mdisplay_info()\n",
      "\u001b[1;31mTypeError\u001b[0m: car.__init__() takes 2 positional arguments but 3 were given"
     ]
    }
   ],
   "source": [
    "#with out self\n",
    "class car:\n",
    "    def __init__(brand,model):\n",
    "        brand=brand\n",
    "        model=model\n",
    "    def display_info():\n",
    "        print(f\"{brand}{model}\")\n",
    "car1=car(\"Tesla\",\"Model S\")\n",
    "car1.display_info()    "
   ]
  },
  {
   "cell_type": "code",
   "execution_count": 12,
   "id": "9a9fcd4d",
   "metadata": {},
   "outputs": [
    {
     "name": "stdout",
     "output_type": "stream",
     "text": [
      "Hello Karthik\n"
     ]
    }
   ],
   "source": [
    "class xyz:\n",
    "    def abc(self,n):\n",
    "        print(\"Hello\",n)\n",
    "s=xyz()\n",
    "s.abc(\"Karthik\")"
   ]
  },
  {
   "cell_type": "code",
   "execution_count": 13,
   "id": "1fbfccf0",
   "metadata": {},
   "outputs": [
    {
     "name": "stdout",
     "output_type": "stream",
     "text": [
      "100\n",
      "121\n"
     ]
    }
   ],
   "source": [
    "class xyz:\n",
    "    def abc(self,n):\n",
    "        print(n)\n",
    "s=xyz()\n",
    "s.abc(100)\n",
    "s.abc(121)"
   ]
  },
  {
   "cell_type": "code",
   "execution_count": 14,
   "id": "2f6336a6",
   "metadata": {},
   "outputs": [
    {
     "name": "stdout",
     "output_type": "stream",
     "text": [
      "100\n",
      "101\n"
     ]
    }
   ],
   "source": [
    "class xyz:\n",
    "    def abc(self,n):\n",
    "        n1=n+1\n",
    "        print(n)\n",
    "        print(n+1)\n",
    "s=xyz()\n",
    "s.abc(100)"
   ]
  },
  {
   "cell_type": "code",
   "execution_count": 17,
   "id": "c4ea4d76",
   "metadata": {},
   "outputs": [
    {
     "name": "stdout",
     "output_type": "stream",
     "text": [
      "100\n",
      "101\n"
     ]
    }
   ],
   "source": [
    "class xyz:\n",
    "    def abc(self,n):\n",
    "        self.n=n+1\n",
    "        print(n)\n",
    "        print(n+1)\n",
    "s=xyz()\n",
    "s.abc(100)"
   ]
  },
  {
   "cell_type": "code",
   "execution_count": 18,
   "id": "d0fc57c1",
   "metadata": {},
   "outputs": [
    {
     "name": "stdout",
     "output_type": "stream",
     "text": [
      "101\n",
      "102\n"
     ]
    }
   ],
   "source": [
    "class xyz:\n",
    "    def abc(self,n):\n",
    "        n=n+1\n",
    "        print(n)\n",
    "        print(n+1)\n",
    "s=xyz()\n",
    "s.abc(100)"
   ]
  },
  {
   "cell_type": "code",
   "execution_count": 22,
   "id": "3937fd2c",
   "metadata": {},
   "outputs": [
    {
     "name": "stdout",
     "output_type": "stream",
     "text": [
      "100\n",
      "101\n",
      "2\n",
      "4\n"
     ]
    }
   ],
   "source": [
    "class xyz:\n",
    "    x=2\n",
    "    __y=4\n",
    "    def abc(self,n):\n",
    "        self.n=n+1\n",
    "        print(n)\n",
    "        print(self.n)\n",
    "s=xyz()\n",
    "s.abc(100)\n",
    "print(s.x)\n",
    "print(s._xyz__y)"
   ]
  },
  {
   "cell_type": "code",
   "execution_count": 23,
   "id": "b8299f3d",
   "metadata": {},
   "outputs": [],
   "source": [
    "# Inheritance"
   ]
  },
  {
   "cell_type": "code",
   "execution_count": 27,
   "id": "b9f531eb",
   "metadata": {},
   "outputs": [
    {
     "name": "stdout",
     "output_type": "stream",
     "text": [
      "Base class\n",
      "Derived class\n"
     ]
    }
   ],
   "source": [
    "class father:\n",
    "    def s1(self):\n",
    "        print(\"Base class\")\n",
    "class son(father):\n",
    "    def s2(self):\n",
    "        print(\"Derived class\")\n",
    "O=son()\n",
    "O.s1()\n",
    "O.s2()"
   ]
  },
  {
   "cell_type": "code",
   "execution_count": 28,
   "id": "282dff8b",
   "metadata": {},
   "outputs": [
    {
     "name": "stdout",
     "output_type": "stream",
     "text": [
      "num1 7\n",
      "num2 10\n"
     ]
    },
    {
     "data": {
      "text/plain": [
       "17"
      ]
     },
     "execution_count": 28,
     "metadata": {},
     "output_type": "execute_result"
    }
   ],
   "source": [
    "class st1:\n",
    "    def num1(self):\n",
    "        self.n1=7\n",
    "        print(\"num1\",self.n1)\n",
    "class st2:\n",
    "    def num2(self):\n",
    "        self.n2=10\n",
    "        print(\"num2\",self.n2)\n",
    "class st(st1,st2):\n",
    "    def add(self):\n",
    "        return self.n1+self.n2\n",
    "s=st()\n",
    "s.num1()\n",
    "s.num2()\n",
    "s.add()"
   ]
  },
  {
   "cell_type": "code",
   "execution_count": 33,
   "id": "df2937cf",
   "metadata": {},
   "outputs": [
    {
     "name": "stdout",
     "output_type": "stream",
     "text": [
      "Base class method Called\n",
      "Derived class method called\n",
      "Further Derived class  called\n"
     ]
    }
   ],
   "source": [
    "# Method Over riding\n",
    "class T:\n",
    "    def show(self):\n",
    "        print(\"Base class method Called\")\n",
    "class S(T):\n",
    "    def show(self):\n",
    "        super().show()\n",
    "        print(\"Derived class method called\")\n",
    "class U(S):\n",
    "    def show(self):\n",
    "        super().show()\n",
    "        print(\"Further Derived class  called\")\n",
    "V=U()\n",
    "V.show()"
   ]
  },
  {
   "cell_type": "code",
   "execution_count": 34,
   "id": "1347aded",
   "metadata": {},
   "outputs": [],
   "source": [
    "# Lambda Functions -- filter map reduce"
   ]
  },
  {
   "cell_type": "code",
   "execution_count": 35,
   "id": "0b100160",
   "metadata": {},
   "outputs": [
    {
     "name": "stdout",
     "output_type": "stream",
     "text": [
      "25\n"
     ]
    }
   ],
   "source": [
    "def sqr(a):\n",
    "    return a*a\n",
    "x=sqr(5)\n",
    "print(x)"
   ]
  },
  {
   "cell_type": "code",
   "execution_count": 36,
   "id": "ab8ae923",
   "metadata": {},
   "outputs": [
    {
     "ename": "TypeError",
     "evalue": "can't multiply sequence by non-int of type 'list'",
     "output_type": "error",
     "traceback": [
      "\u001b[1;31m---------------------------------------------------------------------------\u001b[0m",
      "\u001b[1;31mTypeError\u001b[0m                                 Traceback (most recent call last)",
      "Cell \u001b[1;32mIn[36], line 1\u001b[0m\n\u001b[1;32m----> 1\u001b[0m x\u001b[38;5;241m=\u001b[39m\u001b[43msqr\u001b[49m\u001b[43m(\u001b[49m\u001b[43m[\u001b[49m\u001b[38;5;241;43m1\u001b[39;49m\u001b[43m,\u001b[49m\u001b[38;5;241;43m2\u001b[39;49m\u001b[43m,\u001b[49m\u001b[38;5;241;43m3\u001b[39;49m\u001b[43m,\u001b[49m\u001b[38;5;241;43m4\u001b[39;49m\u001b[43m]\u001b[49m\u001b[43m)\u001b[49m\n\u001b[0;32m      2\u001b[0m prnt(x)\n",
      "Cell \u001b[1;32mIn[35], line 2\u001b[0m, in \u001b[0;36msqr\u001b[1;34m(a)\u001b[0m\n\u001b[0;32m      1\u001b[0m \u001b[38;5;28;01mdef\u001b[39;00m\u001b[38;5;250m \u001b[39m\u001b[38;5;21msqr\u001b[39m(a):\n\u001b[1;32m----> 2\u001b[0m     \u001b[38;5;28;01mreturn\u001b[39;00m \u001b[43ma\u001b[49m\u001b[38;5;241;43m*\u001b[39;49m\u001b[43ma\u001b[49m\n",
      "\u001b[1;31mTypeError\u001b[0m: can't multiply sequence by non-int of type 'list'"
     ]
    }
   ],
   "source": [
    "x=sqr([1,2,3,4])\n",
    "prnt(x)"
   ]
  },
  {
   "cell_type": "code",
   "execution_count": 40,
   "id": "436a92c6",
   "metadata": {},
   "outputs": [
    {
     "name": "stdout",
     "output_type": "stream",
     "text": [
      "(1, 4, 9, 16)\n"
     ]
    }
   ],
   "source": [
    "x=map(sqr,[1,2,3,4])\n",
    "print(tuple(x))"
   ]
  },
  {
   "cell_type": "code",
   "execution_count": 41,
   "id": "2491510c",
   "metadata": {},
   "outputs": [
    {
     "data": {
      "text/plain": [
       "9"
      ]
     },
     "execution_count": 41,
     "metadata": {},
     "output_type": "execute_result"
    }
   ],
   "source": [
    "# Lambda Function :\n",
    "#Lambda arguments : Expression\n",
    "x=lambda a:a*a\n",
    "x(3)"
   ]
  },
  {
   "cell_type": "code",
   "execution_count": 44,
   "id": "b9d7bfbf",
   "metadata": {},
   "outputs": [
    {
     "name": "stdout",
     "output_type": "stream",
     "text": [
      "<function <lambda> at 0x000002B4CD82BD90>\n"
     ]
    }
   ],
   "source": [
    "#5x+3y(1,2)\n",
    "a=lambda x=1,y=2 :5*x+3*y\n",
    "print(a)"
   ]
  },
  {
   "cell_type": "code",
   "execution_count": 45,
   "id": "ac215b89",
   "metadata": {},
   "outputs": [
    {
     "data": {
      "text/plain": [
       "11"
      ]
     },
     "execution_count": 45,
     "metadata": {},
     "output_type": "execute_result"
    }
   ],
   "source": [
    "a=lambda x,y:5*x+3*y\n",
    "a(1,2)"
   ]
  },
  {
   "cell_type": "code",
   "execution_count": 46,
   "id": "42f3a73f",
   "metadata": {},
   "outputs": [],
   "source": [
    "# Numpy , pandas ,Matplotlib , seaborn "
   ]
  },
  {
   "cell_type": "code",
   "execution_count": 48,
   "id": "75f7ec6e",
   "metadata": {},
   "outputs": [
    {
     "data": {
      "text/plain": [
       "array([1., 3., 2.])"
      ]
     },
     "execution_count": 48,
     "metadata": {},
     "output_type": "execute_result"
    }
   ],
   "source": [
    "#7x+5y-3z=16\n",
    "#3x-5y+2z=-8\n",
    "#5x+3y-7z=0\n",
    "\n",
    "import numpy as np\n",
    "a=np.array([[7,5,-3],[3,-5,2],[5,3,-7]])\n",
    "b=np.array([16,-8,0])\n",
    "np.linalg.solve(a,b)"
   ]
  },
  {
   "cell_type": "raw",
   "id": "6ff23651",
   "metadata": {},
   "source": [
    "arr=np."
   ]
  },
  {
   "cell_type": "code",
   "execution_count": 50,
   "id": "53b7b5be",
   "metadata": {},
   "outputs": [
    {
     "data": {
      "text/plain": [
       "-2.0000000000000004"
      ]
     },
     "execution_count": 50,
     "metadata": {},
     "output_type": "execute_result"
    }
   ],
   "source": [
    "arr=np.array([[1,2],[3,4]])\n",
    "np.linalg.inv(arr)\n",
    "np.linalg.det(arr)"
   ]
  },
  {
   "cell_type": "code",
   "execution_count": null,
   "id": "3b944c51",
   "metadata": {},
   "outputs": [],
   "source": []
  }
 ],
 "metadata": {
  "kernelspec": {
   "display_name": "Python (myenv)",
   "language": "python",
   "name": "saich"
  },
  "language_info": {
   "codemirror_mode": {
    "name": "ipython",
    "version": 3
   },
   "file_extension": ".py",
   "mimetype": "text/x-python",
   "name": "python",
   "nbconvert_exporter": "python",
   "pygments_lexer": "ipython3",
   "version": "3.10.9"
  }
 },
 "nbformat": 4,
 "nbformat_minor": 5
}
