{
 "cells": [
  {
   "cell_type": "markdown",
   "id": "952bacbd-02e3-477f-94e0-68220287d07b",
   "metadata": {},
   "source": [
    "## Set & Frozen Set"
   ]
  },
  {
   "cell_type": "markdown",
   "id": "cb1b2ba5-1792-4049-9263-20a552e2b01a",
   "metadata": {},
   "source": [
    "### Area of Rectangle"
   ]
  },
  {
   "cell_type": "code",
   "execution_count": 1,
   "id": "c71862b7-aa57-4221-889a-d38ddb8be8e7",
   "metadata": {},
   "outputs": [
    {
     "data": {
      "text/plain": [
       "720"
      ]
     },
     "execution_count": 1,
     "metadata": {},
     "output_type": "execute_result"
    }
   ],
   "source": [
    "def rect(l,b):\n",
    "    area=l*b\n",
    "    return area\n",
    "rect(90,8)"
   ]
  },
  {
   "cell_type": "markdown",
   "id": "898b4cf6-f42c-4fac-bb18-1589fcebf4ea",
   "metadata": {},
   "source": [
    "### Area of Triangle"
   ]
  },
  {
   "cell_type": "code",
   "execution_count": 2,
   "id": "908e9c70-0b0b-4bf2-a8a9-e0aef18cbfc1",
   "metadata": {},
   "outputs": [
    {
     "data": {
      "text/plain": [
       "31.5"
      ]
     },
     "execution_count": 2,
     "metadata": {},
     "output_type": "execute_result"
    }
   ],
   "source": [
    "def triangle(b,h):\n",
    "    area=1/2*b*h\n",
    "    return area\n",
    "triangle(7,9)"
   ]
  },
  {
   "cell_type": "markdown",
   "id": "d6824b44-21e9-4af1-bf97-6e7cd762d2df",
   "metadata": {},
   "source": [
    "## WAP a program to accept the integer as a input and print its square"
   ]
  },
  {
   "cell_type": "code",
   "execution_count": 3,
   "id": "bdd82268-680b-4039-9f9b-276ff0f88572",
   "metadata": {},
   "outputs": [
    {
     "name": "stdin",
     "output_type": "stream",
     "text": [
      " 6\n"
     ]
    },
    {
     "data": {
      "text/plain": [
       "36"
      ]
     },
     "execution_count": 3,
     "metadata": {},
     "output_type": "execute_result"
    }
   ],
   "source": [
    "a=int(input())\n",
    "def square(a):\n",
    "    return a**2\n",
    "square(a)"
   ]
  },
  {
   "cell_type": "markdown",
   "id": "897dd8ca-586e-450a-85fb-371ee50a3384",
   "metadata": {},
   "source": [
    "## Print first five positive integers"
   ]
  },
  {
   "cell_type": "code",
   "execution_count": 5,
   "id": "374fef12-c415-4eee-9728-02e714b81fd4",
   "metadata": {},
   "outputs": [
    {
     "name": "stdin",
     "output_type": "stream",
     "text": [
      " 6\n"
     ]
    },
    {
     "name": "stdout",
     "output_type": "stream",
     "text": [
      "1\n",
      "2\n",
      "3\n",
      "4\n",
      "5\n"
     ]
    }
   ],
   "source": [
    "n=int(input())\n",
    "def positive(n):\n",
    "    for i in range(1,n):\n",
    "        print(i)\n",
    "positive(n)\n"
   ]
  },
  {
   "cell_type": "markdown",
   "id": "c5121072-a1a9-4868-be7e-080411c820e9",
   "metadata": {},
   "source": [
    "## Accept 2 words as an input and print the 2 words  by adding the space between"
   ]
  },
  {
   "cell_type": "code",
   "execution_count": 7,
   "id": "6881735e-69e9-46d4-a790-1ba47d5c7d6a",
   "metadata": {},
   "outputs": [
    {
     "name": "stdin",
     "output_type": "stream",
     "text": [
      " Karthik\n",
      " Bandi\n"
     ]
    },
    {
     "data": {
      "text/plain": [
       "'Karthik Bandi'"
      ]
     },
     "execution_count": 7,
     "metadata": {},
     "output_type": "execute_result"
    }
   ],
   "source": [
    "a=input()\n",
    "b=input()\n",
    "def full_name(a,b):\n",
    "    return a+\" \"+b\n",
    "full_name(a,b)"
   ]
  },
  {
   "cell_type": "markdown",
   "id": "b8c3fe87-c2cb-42a0-ae17-c7f493738cce",
   "metadata": {},
   "source": [
    "## Create a python program that includes user defined function called print_even_number() the function should prompt the user to set a range of limit before printing all the Even numbers upto the limit"
   ]
  },
  {
   "cell_type": "code",
   "execution_count": 10,
   "id": "6592a166-bffb-41ae-a34e-3fea28e3eaf6",
   "metadata": {},
   "outputs": [
    {
     "name": "stdin",
     "output_type": "stream",
     "text": [
      " 6\n"
     ]
    },
    {
     "ename": "TypeError",
     "evalue": "'int' object is not subscriptable",
     "output_type": "error",
     "traceback": [
      "\u001b[1;31m---------------------------------------------------------------------------\u001b[0m",
      "\u001b[1;31mTypeError\u001b[0m                                 Traceback (most recent call last)",
      "Cell \u001b[1;32mIn[10], line 6\u001b[0m\n\u001b[0;32m      4\u001b[0m         \u001b[38;5;28;01mif\u001b[39;00m i\u001b[38;5;241m%\u001b[39m\u001b[38;5;241m2\u001b[39m\u001b[38;5;241m==\u001b[39m\u001b[38;5;241m0\u001b[39m:\n\u001b[0;32m      5\u001b[0m             \u001b[38;5;28mprint\u001b[39m(n[i])\n\u001b[1;32m----> 6\u001b[0m print_even_number(n)\n",
      "Cell \u001b[1;32mIn[10], line 5\u001b[0m, in \u001b[0;36mprint_even_number\u001b[1;34m(n)\u001b[0m\n\u001b[0;32m      3\u001b[0m \u001b[38;5;28;01mfor\u001b[39;00m i \u001b[38;5;129;01min\u001b[39;00m \u001b[38;5;28mrange\u001b[39m(n):\n\u001b[0;32m      4\u001b[0m     \u001b[38;5;28;01mif\u001b[39;00m i\u001b[38;5;241m%\u001b[39m\u001b[38;5;241m2\u001b[39m\u001b[38;5;241m==\u001b[39m\u001b[38;5;241m0\u001b[39m:\n\u001b[1;32m----> 5\u001b[0m         \u001b[38;5;28mprint\u001b[39m(n[i])\n",
      "\u001b[1;31mTypeError\u001b[0m: 'int' object is not subscriptable"
     ]
    }
   ],
   "source": [
    "n=int(input())\n",
    "def print_even_number(n):\n",
    "    for i in range(n):\n",
    "        if n%2==0:\n",
    "            print(n[i])\n",
    "print_even_number(n)"
   ]
  },
  {
   "cell_type": "code",
   "execution_count": 11,
   "id": "95d1bfb5-c730-4d53-91bc-637ef6959520",
   "metadata": {},
   "outputs": [
    {
     "name": "stdin",
     "output_type": "stream",
     "text": [
      " 6\n"
     ]
    },
    {
     "name": "stdout",
     "output_type": "stream",
     "text": [
      "0\n",
      "1\n",
      "2\n",
      "3\n",
      "4\n",
      "5\n"
     ]
    }
   ],
   "source": [
    "n=int(input())\n",
    "def print_even_number(n):\n",
    "    for i in range(n):\n",
    "        if n%2==0:\n",
    "            print(i)\n",
    "print_even_number(n)"
   ]
  },
  {
   "cell_type": "markdown",
   "id": "2ae9ac38-8d15-48a5-ac17-f1ddcef224f4",
   "metadata": {},
   "source": [
    "## Pythogores Theorem"
   ]
  },
  {
   "cell_type": "code",
   "execution_count": 32,
   "id": "6276e654-5d42-49f3-a4fc-3012cda6bd4f",
   "metadata": {},
   "outputs": [
    {
     "name": "stdin",
     "output_type": "stream",
     "text": [
      " 4\n",
      " 3\n",
      " 5\n"
     ]
    },
    {
     "data": {
      "text/plain": [
       "'Yes it is Right Angle'"
      ]
     },
     "execution_count": 32,
     "metadata": {},
     "output_type": "execute_result"
    }
   ],
   "source": [
    "\n",
    "c=int(input())\n",
    "a=int(input())\n",
    "b=int(input())\n",
    "def right_angle(a,b):\n",
    "    if c**2==a**2 + b**2 or a**2==b**2+c**2 or b**2==a**2+c**2:\n",
    "        return \"Yes it is Right Angle\"\n",
    "    else:\n",
    "        return \"Not a Right Angle\"\n",
    "right_angle(a,b)"
   ]
  },
  {
   "cell_type": "markdown",
   "id": "af2b4d23-fbe6-43e2-83e8-43c081e3854e",
   "metadata": {},
   "source": [
    "## WAP to find the absolute value of 5"
   ]
  },
  {
   "cell_type": "code",
   "execution_count": 33,
   "id": "46c31584-ce38-423c-896e-1b9d3dfb305a",
   "metadata": {},
   "outputs": [
    {
     "name": "stdout",
     "output_type": "stream",
     "text": [
      "5\n"
     ]
    }
   ],
   "source": [
    "def positive(n):\n",
    "    if n>0:\n",
    "        print(n)\n",
    "    else:\n",
    "        print(-n)\n",
    "positive(-5)"
   ]
  },
  {
   "cell_type": "markdown",
   "id": "a0dc85d5-4066-47a2-8931-abb4a9528e02",
   "metadata": {},
   "source": [
    "## Accept a string as input your task is determine if input string is a valid PASSWORD OR NOT?\n",
    "# for the String to be valid password :\n",
    "# it should have 8 to 32 Characters\n",
    "# it should start with upper or lower case\n",
    "# it should not have \\/ these symbols along with \" \"\n",
    "#output of the given input has to be true or False only"
   ]
  },
  {
   "cell_type": "code",
   "execution_count": 21,
   "id": "45a4c5c0-ca52-409a-ba1b-520465381f4d",
   "metadata": {},
   "outputs": [
    {
     "name": "stdout",
     "output_type": "stream",
     "text": [
      "Python is Fantastic\n"
     ]
    }
   ],
   "source": [
    "x='Awesome'\n",
    "def python():\n",
    "    x='Fantastic'\n",
    "    print(\"Python is \"+x)\n",
    "python()"
   ]
  },
  {
   "cell_type": "code",
   "execution_count": null,
   "id": "454d0791-a4a2-4849-855e-37305c58ad4e",
   "metadata": {},
   "outputs": [],
   "source": []
  }
 ],
 "metadata": {
  "kernelspec": {
   "display_name": "Python [conda env:base] *",
   "language": "python",
   "name": "conda-base-py"
  },
  "language_info": {
   "codemirror_mode": {
    "name": "ipython",
    "version": 3
   },
   "file_extension": ".py",
   "mimetype": "text/x-python",
   "name": "python",
   "nbconvert_exporter": "python",
   "pygments_lexer": "ipython3",
   "version": "3.13.5"
  }
 },
 "nbformat": 4,
 "nbformat_minor": 5
}
