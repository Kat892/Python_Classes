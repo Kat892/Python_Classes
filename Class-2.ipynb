{
 "cells": [
  {
   "cell_type": "markdown",
   "id": "dda6a73b",
   "metadata": {},
   "source": [
    "# Print Statements"
   ]
  },
  {
   "cell_type": "code",
   "execution_count": 3,
   "id": "f1982a15",
   "metadata": {},
   "outputs": [
    {
     "name": "stdout",
     "output_type": "stream",
     "text": [
      "Good Morning\n"
     ]
    }
   ],
   "source": [
    "print(\"Good Morning\")"
   ]
  },
  {
   "cell_type": "code",
   "execution_count": 5,
   "id": "3dfa5648",
   "metadata": {},
   "outputs": [
    {
     "name": "stdout",
     "output_type": "stream",
     "text": [
      "Hello\n"
     ]
    }
   ],
   "source": [
    "print(\"Hello\")"
   ]
  },
  {
   "cell_type": "code",
   "execution_count": 6,
   "id": "403bd624",
   "metadata": {},
   "outputs": [
    {
     "name": "stdout",
     "output_type": "stream",
     "text": [
      "Sai charan\n"
     ]
    }
   ],
   "source": [
    "# I want to print my name \n",
    "print('Sai charan')"
   ]
  },
  {
   "cell_type": "markdown",
   "id": "2033fee7",
   "metadata": {},
   "source": [
    "# Variables"
   ]
  },
  {
   "cell_type": "code",
   "execution_count": 7,
   "id": "baf4b4b2",
   "metadata": {},
   "outputs": [],
   "source": [
    "a=10\n"
   ]
  },
  {
   "cell_type": "code",
   "execution_count": 8,
   "id": "5ecd88c2",
   "metadata": {},
   "outputs": [
    {
     "data": {
      "text/plain": [
       "10"
      ]
     },
     "execution_count": 8,
     "metadata": {},
     "output_type": "execute_result"
    }
   ],
   "source": [
    "a"
   ]
  },
  {
   "cell_type": "code",
   "execution_count": 9,
   "id": "9a27d477",
   "metadata": {},
   "outputs": [],
   "source": [
    "a=10000045657464635645678979545456789797565557889786434567"
   ]
  },
  {
   "cell_type": "code",
   "execution_count": 10,
   "id": "c17e0ffa",
   "metadata": {},
   "outputs": [
    {
     "data": {
      "text/plain": [
       "10000045657464635645678979545456789797565557889786434567"
      ]
     },
     "execution_count": 10,
     "metadata": {},
     "output_type": "execute_result"
    }
   ],
   "source": [
    "a"
   ]
  },
  {
   "cell_type": "code",
   "execution_count": 11,
   "id": "096c7559",
   "metadata": {},
   "outputs": [
    {
     "name": "stdout",
     "output_type": "stream",
     "text": [
      "30\n"
     ]
    }
   ],
   "source": [
    "# addition of 2 numbers\n",
    "a=10\n",
    "b=20\n",
    "c=a+b\n",
    "print(c)"
   ]
  },
  {
   "cell_type": "code",
   "execution_count": 12,
   "id": "791a3c89",
   "metadata": {},
   "outputs": [
    {
     "name": "stdout",
     "output_type": "stream",
     "text": [
      "c\n"
     ]
    }
   ],
   "source": [
    "print('c')"
   ]
  },
  {
   "cell_type": "code",
   "execution_count": 13,
   "id": "49568422",
   "metadata": {},
   "outputs": [
    {
     "name": "stdout",
     "output_type": "stream",
     "text": [
      "30\n"
     ]
    }
   ],
   "source": [
    "#How i want my output weas addition of a=10 and b=20 is c=30\n",
    "print(a+b)"
   ]
  },
  {
   "cell_type": "code",
   "execution_count": 14,
   "id": "cd5fbd67",
   "metadata": {},
   "outputs": [
    {
     "name": "stdout",
     "output_type": "stream",
     "text": [
      "addition of a= 10 and b= 20 is c= 30\n"
     ]
    }
   ],
   "source": [
    "print('addition of a=',a,\"and b=\",b,\"is c=\",c)"
   ]
  },
  {
   "cell_type": "code",
   "execution_count": 15,
   "id": "e262ced6",
   "metadata": {},
   "outputs": [
    {
     "name": "stdout",
     "output_type": "stream",
     "text": [
      "addition of a=10 and b=20 is c=30\n"
     ]
    }
   ],
   "source": [
    "print(\"addition of a={} and b={} is c={}\".format(a,b,c))"
   ]
  },
  {
   "cell_type": "code",
   "execution_count": 16,
   "id": "b31da6df",
   "metadata": {},
   "outputs": [
    {
     "name": "stdout",
     "output_type": "stream",
     "text": [
      "addition of a=10 and b=20is c=30\n"
     ]
    }
   ],
   "source": [
    "print(\"addition of a={0} and b={1}is c={2}\".format(a,b,c))"
   ]
  },
  {
   "cell_type": "code",
   "execution_count": 17,
   "id": "f0c311a2",
   "metadata": {},
   "outputs": [],
   "source": [
    "#Assignment to do is i want the C=30 in the next line u solve it and share"
   ]
  },
  {
   "cell_type": "markdown",
   "id": "99ac2c90",
   "metadata": {},
   "source": [
    "# Varibale types"
   ]
  },
  {
   "cell_type": "code",
   "execution_count": 18,
   "id": "3d9f0718",
   "metadata": {},
   "outputs": [
    {
     "name": "stdout",
     "output_type": "stream",
     "text": [
      "10 charan 1.02 True (12+8j)\n"
     ]
    }
   ],
   "source": [
    "a=10\n",
    "b='charan'\n",
    "c=1.02\n",
    "d=True\n",
    "e=12+8j\n",
    "print(a,b,c,d,e)"
   ]
  },
  {
   "cell_type": "code",
   "execution_count": 19,
   "id": "d30687ce",
   "metadata": {},
   "outputs": [
    {
     "name": "stdout",
     "output_type": "stream",
     "text": [
      "<class 'int'>\n"
     ]
    }
   ],
   "source": [
    "print(type(a))"
   ]
  },
  {
   "cell_type": "code",
   "execution_count": 20,
   "id": "75761d47",
   "metadata": {},
   "outputs": [
    {
     "name": "stdout",
     "output_type": "stream",
     "text": [
      "<class 'str'>\n"
     ]
    }
   ],
   "source": [
    "print(type(b))"
   ]
  },
  {
   "cell_type": "code",
   "execution_count": 21,
   "id": "c9bc3ce8",
   "metadata": {},
   "outputs": [
    {
     "name": "stdout",
     "output_type": "stream",
     "text": [
      "<class 'float'>\n"
     ]
    }
   ],
   "source": [
    "print(type(c))"
   ]
  },
  {
   "cell_type": "code",
   "execution_count": 22,
   "id": "b36d925b",
   "metadata": {},
   "outputs": [
    {
     "name": "stdout",
     "output_type": "stream",
     "text": [
      "<class 'bool'>\n"
     ]
    }
   ],
   "source": [
    "print(type(d))"
   ]
  },
  {
   "cell_type": "code",
   "execution_count": 23,
   "id": "12bd1ba6",
   "metadata": {},
   "outputs": [
    {
     "name": "stdout",
     "output_type": "stream",
     "text": [
      "<class 'complex'>\n"
     ]
    }
   ],
   "source": [
    "print(type(e))"
   ]
  },
  {
   "cell_type": "code",
   "execution_count": 24,
   "id": "eca7ef5a",
   "metadata": {},
   "outputs": [],
   "source": [
    "#complex no always have to be in the a+bj format "
   ]
  },
  {
   "cell_type": "code",
   "execution_count": 25,
   "id": "b48e32d3",
   "metadata": {},
   "outputs": [],
   "source": [
    "r=8+9j"
   ]
  },
  {
   "cell_type": "code",
   "execution_count": 27,
   "id": "18b5fe13",
   "metadata": {},
   "outputs": [
    {
     "data": {
      "text/plain": [
       "8.0"
      ]
     },
     "execution_count": 27,
     "metadata": {},
     "output_type": "execute_result"
    }
   ],
   "source": [
    "r.real"
   ]
  },
  {
   "cell_type": "code",
   "execution_count": 28,
   "id": "e4f6d46e",
   "metadata": {},
   "outputs": [
    {
     "data": {
      "text/plain": [
       "9.0"
      ]
     },
     "execution_count": 28,
     "metadata": {},
     "output_type": "execute_result"
    }
   ],
   "source": [
    "r.imag"
   ]
  },
  {
   "cell_type": "code",
   "execution_count": 29,
   "id": "285eca41",
   "metadata": {},
   "outputs": [
    {
     "data": {
      "text/plain": [
       "['False',\n",
       " 'None',\n",
       " 'True',\n",
       " 'and',\n",
       " 'as',\n",
       " 'assert',\n",
       " 'async',\n",
       " 'await',\n",
       " 'break',\n",
       " 'class',\n",
       " 'continue',\n",
       " 'def',\n",
       " 'del',\n",
       " 'elif',\n",
       " 'else',\n",
       " 'except',\n",
       " 'finally',\n",
       " 'for',\n",
       " 'from',\n",
       " 'global',\n",
       " 'if',\n",
       " 'import',\n",
       " 'in',\n",
       " 'is',\n",
       " 'lambda',\n",
       " 'nonlocal',\n",
       " 'not',\n",
       " 'or',\n",
       " 'pass',\n",
       " 'raise',\n",
       " 'return',\n",
       " 'try',\n",
       " 'while',\n",
       " 'with',\n",
       " 'yield']"
      ]
     },
     "execution_count": 29,
     "metadata": {},
     "output_type": "execute_result"
    }
   ],
   "source": [
    "import keyword\n",
    "keyword.kwlist"
   ]
  },
  {
   "cell_type": "markdown",
   "id": "c5e75b1e",
   "metadata": {},
   "source": [
    "# Operators"
   ]
  },
  {
   "cell_type": "markdown",
   "id": "370a0afc",
   "metadata": {},
   "source": [
    "## Arithmetic operators"
   ]
  },
  {
   "cell_type": "code",
   "execution_count": 32,
   "id": "21e4a638",
   "metadata": {},
   "outputs": [
    {
     "name": "stdout",
     "output_type": "stream",
     "text": [
      "7\n",
      "3\n",
      "10\n",
      "2.5\n"
     ]
    }
   ],
   "source": [
    "a=5\n",
    "b=2\n",
    "print(a+b)\n",
    "print(a-b)\n",
    "print(a*b)\n",
    "print(a/b)"
   ]
  },
  {
   "cell_type": "code",
   "execution_count": 33,
   "id": "85dc6b41",
   "metadata": {},
   "outputs": [
    {
     "name": "stdout",
     "output_type": "stream",
     "text": [
      "4.5\n"
     ]
    }
   ],
   "source": [
    "print(9/2)"
   ]
  },
  {
   "cell_type": "code",
   "execution_count": 36,
   "id": "8185272a",
   "metadata": {},
   "outputs": [
    {
     "name": "stdout",
     "output_type": "stream",
     "text": [
      "4\n"
     ]
    }
   ],
   "source": [
    "print(9//2)\n",
    "# Floor DIvision is going to give u the quotient"
   ]
  },
  {
   "cell_type": "code",
   "execution_count": 38,
   "id": "4c25a8fa",
   "metadata": {},
   "outputs": [
    {
     "name": "stdout",
     "output_type": "stream",
     "text": [
      "1\n"
     ]
    }
   ],
   "source": [
    "print(9%2)\n",
    "# % is going to give you the Remainder"
   ]
  },
  {
   "cell_type": "code",
   "execution_count": 39,
   "id": "9d3fdcee",
   "metadata": {},
   "outputs": [
    {
     "name": "stdout",
     "output_type": "stream",
     "text": [
      "81\n"
     ]
    }
   ],
   "source": [
    "#Asked in Interview for 4.5 LPA package \n",
    "#There is a number i want to multiply it as a power where my base is 9 and my ower is 2 my result has to be 81.\n",
    "print(9**2)"
   ]
  },
  {
   "cell_type": "markdown",
   "id": "a455b8d2",
   "metadata": {},
   "source": [
    "# Relational Operators"
   ]
  },
  {
   "cell_type": "raw",
   "id": "609062fb",
   "metadata": {},
   "source": [
    "< ,>,<=,>=,!="
   ]
  },
  {
   "cell_type": "code",
   "execution_count": 40,
   "id": "41f75560",
   "metadata": {},
   "outputs": [
    {
     "data": {
      "text/plain": [
       "True"
      ]
     },
     "execution_count": 40,
     "metadata": {},
     "output_type": "execute_result"
    }
   ],
   "source": [
    "3<5"
   ]
  },
  {
   "cell_type": "code",
   "execution_count": 41,
   "id": "0632f2fc",
   "metadata": {},
   "outputs": [
    {
     "data": {
      "text/plain": [
       "True"
      ]
     },
     "execution_count": 41,
     "metadata": {},
     "output_type": "execute_result"
    }
   ],
   "source": [
    "5!=4"
   ]
  },
  {
   "cell_type": "code",
   "execution_count": 42,
   "id": "fe2ad4a6",
   "metadata": {},
   "outputs": [
    {
     "data": {
      "text/plain": [
       "False"
      ]
     },
     "execution_count": 42,
     "metadata": {},
     "output_type": "execute_result"
    }
   ],
   "source": [
    "5<4"
   ]
  },
  {
   "cell_type": "code",
   "execution_count": 43,
   "id": "e344c004",
   "metadata": {},
   "outputs": [
    {
     "data": {
      "text/plain": [
       "True"
      ]
     },
     "execution_count": 43,
     "metadata": {},
     "output_type": "execute_result"
    }
   ],
   "source": [
    "5<=8"
   ]
  },
  {
   "cell_type": "code",
   "execution_count": 44,
   "id": "62b2d536",
   "metadata": {},
   "outputs": [
    {
     "data": {
      "text/plain": [
       "False"
      ]
     },
     "execution_count": 44,
     "metadata": {},
     "output_type": "execute_result"
    }
   ],
   "source": [
    "6>=400"
   ]
  },
  {
   "cell_type": "code",
   "execution_count": 46,
   "id": "2351e2a1",
   "metadata": {},
   "outputs": [
    {
     "data": {
      "text/plain": [
       "True"
      ]
     },
     "execution_count": 46,
     "metadata": {},
     "output_type": "execute_result"
    }
   ],
   "source": [
    "5==5"
   ]
  },
  {
   "cell_type": "code",
   "execution_count": 48,
   "id": "d6b44ccd",
   "metadata": {},
   "outputs": [
    {
     "data": {
      "text/plain": [
       "False"
      ]
     },
     "execution_count": 48,
     "metadata": {},
     "output_type": "execute_result"
    }
   ],
   "source": [
    "3==5"
   ]
  },
  {
   "cell_type": "markdown",
   "id": "13c2e843",
   "metadata": {},
   "source": [
    "## Logical operators"
   ]
  },
  {
   "cell_type": "raw",
   "id": "cd7958d9",
   "metadata": {},
   "source": [
    "# And OR not \n",
    "and \n",
    "t t t \n",
    "t f f \n",
    "f t f\n",
    "f f f"
   ]
  },
  {
   "cell_type": "raw",
   "id": "3943f89a",
   "metadata": {},
   "source": [
    "or \n",
    "t t t\n",
    "t f t\n",
    "f t t\n",
    "f f f\n"
   ]
  },
  {
   "cell_type": "code",
   "execution_count": 53,
   "id": "ba29f34c",
   "metadata": {},
   "outputs": [
    {
     "name": "stdout",
     "output_type": "stream",
     "text": [
      "False\n"
     ]
    }
   ],
   "source": [
    "S=True\n",
    "T=False\n",
    "print(S and T)"
   ]
  },
  {
   "cell_type": "code",
   "execution_count": 54,
   "id": "23dd995f",
   "metadata": {},
   "outputs": [
    {
     "name": "stdout",
     "output_type": "stream",
     "text": [
      "True\n"
     ]
    }
   ],
   "source": [
    "print(S or T)"
   ]
  },
  {
   "cell_type": "code",
   "execution_count": 55,
   "id": "1c86cb78",
   "metadata": {},
   "outputs": [
    {
     "name": "stdout",
     "output_type": "stream",
     "text": [
      "False\n"
     ]
    }
   ],
   "source": [
    "print(not S)"
   ]
  },
  {
   "cell_type": "code",
   "execution_count": 56,
   "id": "2b239589",
   "metadata": {},
   "outputs": [
    {
     "name": "stdout",
     "output_type": "stream",
     "text": [
      "False\n"
     ]
    }
   ],
   "source": [
    "print(S and T)"
   ]
  },
  {
   "cell_type": "markdown",
   "id": "51dfd6d5",
   "metadata": {},
   "source": [
    "## Membership operators"
   ]
  },
  {
   "cell_type": "raw",
   "id": "28dee84e",
   "metadata": {},
   "source": [
    "in ,not in"
   ]
  },
  {
   "cell_type": "code",
   "execution_count": 57,
   "id": "54662020",
   "metadata": {},
   "outputs": [
    {
     "data": {
      "text/plain": [
       "True"
      ]
     },
     "execution_count": 57,
     "metadata": {},
     "output_type": "execute_result"
    }
   ],
   "source": [
    "'d' in 'deepak'"
   ]
  },
  {
   "cell_type": "code",
   "execution_count": 58,
   "id": "243eea5c",
   "metadata": {},
   "outputs": [
    {
     "data": {
      "text/plain": [
       "False"
      ]
     },
     "execution_count": 58,
     "metadata": {},
     "output_type": "execute_result"
    }
   ],
   "source": [
    "'s' in 'venu'"
   ]
  },
  {
   "cell_type": "code",
   "execution_count": 61,
   "id": "191493b4",
   "metadata": {},
   "outputs": [
    {
     "data": {
      "text/plain": [
       "True"
      ]
     },
     "execution_count": 61,
     "metadata": {},
     "output_type": "execute_result"
    }
   ],
   "source": [
    "'s' not in 'charan'"
   ]
  },
  {
   "cell_type": "markdown",
   "id": "10a4dac8",
   "metadata": {},
   "source": [
    "# 'D' in 'deepak'"
   ]
  },
  {
   "cell_type": "markdown",
   "id": "54440103",
   "metadata": {},
   "source": [
    "# Conditional Statements"
   ]
  },
  {
   "cell_type": "raw",
   "id": "afda4b95",
   "metadata": {},
   "source": [
    "# if elif else"
   ]
  },
  {
   "cell_type": "code",
   "execution_count": 63,
   "id": "629a4fd8",
   "metadata": {},
   "outputs": [],
   "source": [
    "# Buy a shoes my budget is 500 if shoe price is 300 can i buy it or not ?"
   ]
  },
  {
   "cell_type": "code",
   "execution_count": 65,
   "id": "6fe169f0",
   "metadata": {},
   "outputs": [
    {
     "name": "stdout",
     "output_type": "stream",
     "text": [
      "You can purchase the item\n"
     ]
    }
   ],
   "source": [
    "my_budget=500\n",
    "shoe_price=300\n",
    "if my_budget>= shoe_price:\n",
    "    print(\"You can purchase the item\")\n",
    "else:\n",
    "    print(\"You can't buy the shoes\")"
   ]
  },
  {
   "cell_type": "code",
   "execution_count": 67,
   "id": "7ba59651",
   "metadata": {},
   "outputs": [
    {
     "name": "stdout",
     "output_type": "stream",
     "text": [
      "no\n"
     ]
    }
   ],
   "source": [
    "a=300\n",
    "b=500\n",
    "if a>=b:\n",
    "    print(\"yes\")\n",
    "else:\n",
    "    print(\"no\")"
   ]
  },
  {
   "cell_type": "raw",
   "id": "f773814f",
   "metadata": {},
   "source": [
    "# if it rains i will go to long drive if its sunny i go to movie if its windy i play football else i will sit at home WAP to \n",
    "satisfy the above conditions\n",
    "condition has to be provided by user as an input based on that output has to be printed"
   ]
  },
  {
   "cell_type": "code",
   "execution_count": 68,
   "id": "6d924d7c",
   "metadata": {},
   "outputs": [
    {
     "name": "stdout",
     "output_type": "stream",
     "text": [
      "3\n",
      "Windy\n",
      "Let's gather for football match\n"
     ]
    }
   ],
   "source": [
    "a=int(input())\n",
    "if a==1:\n",
    "    print(\"Rainy\")\n",
    "    print(\"Let's go for long drive\")\n",
    "elif a==2:\n",
    "    print(\"Sunny\")\n",
    "    print(\"Let's Watch Movie\")\n",
    "elif a==3:\n",
    "    print(\"Windy\")\n",
    "    print(\"Let's gather for football match\")\n",
    "else:\n",
    "    print(\"Let's plan something different\")"
   ]
  },
  {
   "cell_type": "markdown",
   "id": "ec8f39c1",
   "metadata": {},
   "source": [
    "# Casing in python"
   ]
  },
  {
   "cell_type": "raw",
   "id": "9cc4a3bc",
   "metadata": {},
   "source": [
    "Camel snake case and pascal case"
   ]
  },
  {
   "cell_type": "raw",
   "id": "42b6b46b",
   "metadata": {},
   "source": [
    "# totalMarks,studentGrade-- Camel Case\n",
    "Total_marks,student_grade-- Snake Case\n",
    "TOTAL_MARKS-- PASCAL CASE"
   ]
  },
  {
   "cell_type": "code",
   "execution_count": 70,
   "id": "56a4ab64",
   "metadata": {},
   "outputs": [],
   "source": [
    "# wap to find whether the Number is Even or odd"
   ]
  },
  {
   "cell_type": "code",
   "execution_count": 71,
   "id": "ff0739a3",
   "metadata": {},
   "outputs": [
    {
     "name": "stdout",
     "output_type": "stream",
     "text": [
      "5\n",
      "odd\n"
     ]
    }
   ],
   "source": [
    "x=int(input())\n",
    "if x%2==0:\n",
    "    print(\"Even\")\n",
    "else:\n",
    "    print(\"odd\")"
   ]
  },
  {
   "cell_type": "code",
   "execution_count": 72,
   "id": "95d0d77d",
   "metadata": {},
   "outputs": [
    {
     "name": "stdout",
     "output_type": "stream",
     "text": [
      "5\n",
      "odd\n"
     ]
    }
   ],
   "source": [
    "x=int(input())\n",
    "if x%2==1:\n",
    "    print(\"odd\")\n",
    "else:\n",
    "    print(\"Even\")"
   ]
  },
  {
   "cell_type": "code",
   "execution_count": 73,
   "id": "54d9eafa",
   "metadata": {},
   "outputs": [
    {
     "name": "stdout",
     "output_type": "stream",
     "text": [
      "Enter the number to check even or odd45\n",
      "Its an odd number\n"
     ]
    }
   ],
   "source": [
    "# Final Presentbble code\n",
    "number=int(input(\"Enter the number to check even or odd\"))\n",
    "if number%2==0:\n",
    "    print(\"Its an even number\")\n",
    "else:\n",
    "    print(\"Its an odd number\")"
   ]
  },
  {
   "cell_type": "code",
   "execution_count": 74,
   "id": "01548860",
   "metadata": {},
   "outputs": [
    {
     "name": "stdout",
     "output_type": "stream",
     "text": [
      "It is equal to 35\n",
      "I am charan\n"
     ]
    }
   ],
   "source": [
    "b=35\n",
    "if b>35:\n",
    "    print(\"yes its greathe than 35\")\n",
    "elif b<35:\n",
    "    print(\"It is less than 35\")\n",
    "else:\n",
    "    print(\"It is equal to 35\")\n",
    "print(\"I am charan\")"
   ]
  },
  {
   "cell_type": "code",
   "execution_count": 75,
   "id": "fd094a29",
   "metadata": {},
   "outputs": [
    {
     "name": "stdout",
     "output_type": "stream",
     "text": [
      "Confirm my seat\n"
     ]
    }
   ],
   "source": [
    "# Purchasing an online Course\n",
    "course=['Data Analyst','bigdata','DSA','Java']\n",
    "price=2000\n",
    "mentor='charan'\n",
    "if 'Data Analyst' in course and price<=20000 and mentor=='charan':\n",
    "    print(\"Confirm my seat\")"
   ]
  },
  {
   "cell_type": "raw",
   "id": "1da210f8",
   "metadata": {},
   "source": [
    "# WAP to Print o buy a shirt based on condition that it should be from KLM or Relainace or Zudio color has to be blue or black\n",
    "size has to be between S to XL and price lss than 1000 "
   ]
  },
  {
   "cell_type": "markdown",
   "id": "0ef2b1fa",
   "metadata": {},
   "source": [
    "# Nested if Conditions"
   ]
  },
  {
   "cell_type": "code",
   "execution_count": 77,
   "id": "d4e65730",
   "metadata": {},
   "outputs": [
    {
     "name": "stdout",
     "output_type": "stream",
     "text": [
      "X equals to 35\n"
     ]
    }
   ],
   "source": [
    "x=35\n",
    "if x>35:\n",
    "    print(\"X is greater than 35\")\n",
    "else:\n",
    "    if x<35:\n",
    "        print(\"X is less than 35\")\n",
    "    else:\n",
    "        print(\"X equals to 35\")"
   ]
  },
  {
   "cell_type": "code",
   "execution_count": 78,
   "id": "167356c8",
   "metadata": {},
   "outputs": [],
   "source": [
    "# WAP to check whether the number is positive or Negative or Zero by using nested if condition"
   ]
  },
  {
   "cell_type": "code",
   "execution_count": 81,
   "id": "1c61e7a1",
   "metadata": {},
   "outputs": [
    {
     "name": "stdout",
     "output_type": "stream",
     "text": [
      "Enter the number0\n",
      "Its a zero\n"
     ]
    }
   ],
   "source": [
    "number=int(input(\"Enter the number\"))\n",
    "if number>0:\n",
    "    print(\"Its a positive Number\")\n",
    "else:\n",
    "    if number==0:\n",
    "        print(\"Its a zero\")\n",
    "    else:\n",
    "        print(\"Its a Negative Number\")"
   ]
  },
  {
   "cell_type": "code",
   "execution_count": null,
   "id": "1ce9cb04",
   "metadata": {},
   "outputs": [],
   "source": []
  }
 ],
 "metadata": {
  "kernelspec": {
   "display_name": "Python 3 (ipykernel)",
   "language": "python",
   "name": "python3"
  },
  "language_info": {
   "codemirror_mode": {
    "name": "ipython",
    "version": 3
   },
   "file_extension": ".py",
   "mimetype": "text/x-python",
   "name": "python",
   "nbconvert_exporter": "python",
   "pygments_lexer": "ipython3",
   "version": "3.10.9"
  }
 },
 "nbformat": 4,
 "nbformat_minor": 5
}
